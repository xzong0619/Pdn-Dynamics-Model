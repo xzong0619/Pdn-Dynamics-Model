{
 "cells": [
  {
   "cell_type": "markdown",
   "metadata": {},
   "source": [
    "## VASP band structure calculator\n",
    "\n",
    "Anyone who's ever had to calculate a hybrid-functional band structure in VASP knows that it is an incrediably fiddly procedure, anyone who hasn't should be happy. The routine involves performing an initial calculation at GGA level, generating $k$-points and then pasting special points with zero weighting to a new KPOINTS file for the hybrid calculation.\n",
    "\n",
    "The VASP version of the procedure is outlined [here](http://cms.mpi.univie.ac.at/wiki/index.php/Si_bandstructure). In this example we have more-or-less automated the procedure in ASE. \n",
    "\n",
    "The kpoints module of ASE contains special points for common [lattice types](https://wiki.fysik.dtu.dk/ase/epydoc/ase.dft.kpoints-module.html#high_symm_path). NB I had to add in monoclinic to my version. It also contains information on the high symmetry paths through the respective Brillouin zones. In this tutorial we will make use of these features.\n",
    "\n",
    "## Setting up VASP to work with ASE\n",
    "\n",
    "To do this you need to set two environment variables; the VASP executable command and the path to the VASP pseudopotentials.\n",
    "\n",
    "The setup is described [on the ASE site.](https://wiki.fysik.dtu.dk/ase/ase/calculators/vasp.html) Although I have personally found more success by setting the executable variable using \n",
    "\n",
    "* export VASP_COMMAND=\"vasp\""
   ]
  },
  {
   "cell_type": "code",
   "execution_count": 19,
   "metadata": {
    "collapsed": true
   },
   "outputs": [],
   "source": [
    "%matplotlib inline\n",
    "from ase.lattice import bulk\n",
    "from ase.dft.kpoints import *\n",
    "import numpy as np\n",
    "import os\n",
    "from ase.calculators.vasp import Vasp\n",
    "from ase.lattice.spacegroup import crystal\n",
    "import matplotlib.pyplot as plt\n",
    "from ase.dft.bandgap import get_band_gap "
   ]
  },
  {
   "cell_type": "markdown",
   "metadata": {},
   "source": [
    "## Primitive cell maker\n",
    "Below is a quick function to build a primitive cell Atoms object from a conventional cell Atoms object. Well, you wouldn't want to waste CPU time, would you?"
   ]
  },
  {
   "cell_type": "code",
   "execution_count": 28,
   "metadata": {
    "collapsed": true
   },
   "outputs": [],
   "source": [
    "def primitive_from_conventional_cell(atoms, spacegroup=1, setting=1):\n",
    "    \"\"\"Returns primitive cell given an Atoms object for a conventional\n",
    "    cell and it's spacegroup.\"\"\"\n",
    "    from ase.lattice.spacegroup import Spacegroup\n",
    "    from ase.utils.geometry  import cut\n",
    "    sg = Spacegroup(spacegroup, setting)\n",
    "    prim_cell = sg.scaled_primitive_cell  # Check if we need to transpose\n",
    "    return cut(atoms, a=prim_cell[0], b=prim_cell[1], c=prim_cell[2])"
   ]
  },
  {
   "cell_type": "code",
   "execution_count": 29,
   "metadata": {
    "collapsed": false
   },
   "outputs": [],
   "source": [
    "# Set up the system (Si)\n",
    "a = 5.459\n",
    "si = crystal('Si', [(0,0,0)], spacegroup=227, cellpar=[a, a, a, 90, 90, 90])\n",
    "si = primitive_from_conventional_cell(si,spacegroup=227, setting=1)"
   ]
  },
  {
   "cell_type": "code",
   "execution_count": 30,
   "metadata": {
    "collapsed": false
   },
   "outputs": [],
   "source": [
    "# Set up the sampling path\n",
    "path = high_symm_path['fcc']\n",
    "points = get_special_points('fcc')\n",
    "point_coords = []\n",
    "for point in path:\n",
    "    point_coords.append(points[point])\n",
    "kpts, x, X = get_bandpath(point_coords,si.cell,100)"
   ]
  },
  {
   "cell_type": "markdown",
   "metadata": {},
   "source": [
    "**NOTE** the sampling paths can be overly exhaustive and you may want to define reduced paths yourself, as in the example folders in this directory.\n",
    "\n",
    "## The First VASP calculation\n",
    "\n",
    "This is a single point calculation. Performed at GGA level, it generates the $k$-point mesh for 4x4x4 sampling."
   ]
  },
  {
   "cell_type": "code",
   "execution_count": 31,
   "metadata": {
    "collapsed": false
   },
   "outputs": [],
   "source": [
    "calc_single = Vasp(system = \"Generic System Name\",\n",
    "               istart = 0,iniwav = 1,icharg = 0,gamma=True,reciprocal=True,\n",
    "               prec=\"Accurate\", lreal = False, algo = \"Normal\", encut = 300.00,\n",
    "               nelm = 200, ediff = 1e-6, gga = \"PS\",kpts=(4,4,4),\n",
    "               ediffg = 1e-3, nsw = 0, ibrion = 1, isif = 3, isym = 2,\n",
    "               ismear = -5)\n",
    "\n",
    "si.set_calculator(calc_single)\n",
    "energy = si.get_potential_energy()"
   ]
  },
  {
   "cell_type": "markdown",
   "metadata": {},
   "source": [
    "## Make hybrid KPOINTS file\n",
    "Now for the fiddling around to convert the irreducible $k$-points from that calculation to the KPOINTS file for the band structure"
   ]
  },
  {
   "cell_type": "code",
   "execution_count": 32,
   "metadata": {
    "collapsed": false
   },
   "outputs": [],
   "source": [
    "ibzkpts = calc_single.get_ibz_k_points()\n",
    "weights = calc_single.read_k_point_weights()\n",
    "kpts = np.concatenate((ibzkpts,kpts))\n",
    "dummy = np.zeros(shape=(len(kpts),4))\n",
    "for i in range(len(ibzkpts)):\n",
    "    dummy[i,3] = weights[i]\n",
    "dummy[:,:-1] = kpts\n",
    "kpts = dummy"
   ]
  },
  {
   "cell_type": "markdown",
   "metadata": {},
   "source": [
    "## The band structure calculation\n",
    "\n",
    "**NOTE** on this occasion we run the band structure at GGA level. This is in the interests of brevity of the calculation and can easily be changed to hybrid-DFT in the calculator definition."
   ]
  },
  {
   "cell_type": "code",
   "execution_count": 33,
   "metadata": {
    "collapsed": false
   },
   "outputs": [
    {
     "name": "stdout",
     "output_type": "stream",
     "text": [
      "Band Calc\n"
     ]
    }
   ],
   "source": [
    "calc_band = Vasp(system = \"Band structure\",\n",
    "               encut = 500.00,\n",
    "               gga = \"PS\",\n",
    "               kpts=kpts,\n",
    "               nsw = 0,\n",
    "               ismear = 0,\n",
    "               sigma = 0.01,\n",
    "               reciprocal = True)\n",
    "si.set_calculator(calc_band)\n",
    "print \"Band Calc\"\n",
    "bands = si.get_potential_energy()"
   ]
  },
  {
   "cell_type": "markdown",
   "metadata": {},
   "source": [
    "## Analysing and plotting the output\n",
    "\n",
    "In this case we will use matplotlib to plot our structures. We will also use som of the nice built-in features of ASE to get information such as the band gap, the direct band gap and the transitions involved in each."
   ]
  },
  {
   "cell_type": "code",
   "execution_count": 38,
   "metadata": {
    "collapsed": false
   },
   "outputs": [
    {
     "data": {
      "image/png": "[encoded data removed]",
      "text/plain": [
       "<matplotlib.figure.Figure at 0x10892cb50>"
      ]
     },
     "metadata": {},
     "output_type": "display_data"
    }
   ],
   "source": [
    "# Get the band energies across the Brillouin zone\n",
    "e_kn = np.array([calc_band.get_eigenvalues(k) for k in range(len(kpts))])\n",
    "\n",
    "# Get Fermi energy\n",
    "ef = calc_band.get_fermi_level()\n",
    "nbands = calc_band.get_number_of_bands()\n",
    "\n",
    "# Plotting time\n",
    "e_kn -= ef\n",
    "emin = e_kn.min() - 1.0\n",
    "emax = e_kn[:, nbands-1].max() + 1.0\n",
    "\n",
    "# Plot the energy Vs k-point for each band\n",
    "nelect = calc_band.get_number_of_electrons()\n",
    "for n in range(nbands):\n",
    "\n",
    "# Choose colour based on valence or conduction\n",
    "    for n in range(nbands):\n",
    "        if n < nelect/2:\n",
    "            plt.plot(x, e_kn[len(ibzkpts):len(kpts), n],color='#800000')\n",
    "        else:\n",
    "            plt.plot(x, e_kn[len(ibzkpts):len(kpts), n],color='#228B22')\n",
    "\n",
    "# Shade in valence and conduction bands\n",
    "plt.fill_between(x,emin,e_kn[len(ibzkpts):len(kpts), nelect/2 - 1],color='#800000',alpha=0.6)\n",
    "plt.fill_between(x,e_kn[len(ibzkpts):len(kpts), nelect/2],emax,color='#228B22',alpha=0.6)\n",
    "\n",
    "# Set thick lines at each k-point\n",
    "for p in X:\n",
    "    plt.plot([p, p], [emin, emax], 'k-')\n",
    "\n",
    "# Set the axis tick marks and labels\n",
    "plt.plot([0, X[-1]], [0, 0], 'k-')\n",
    "plt.xticks(X, ['$%s$' % n for n in path])\n",
    "plt.axis(xmin=0, xmax=X[-1], ymin=emin, ymax=emax)\n",
    "plt.xlabel('k-vector')\n",
    "\n",
    "\n",
    "# Save the plot\n",
    "plt.savefig('bands.pdf')\n"
   ]
  }
 ],
 "metadata": {
  "kernelspec": {
   "display_name": "Python 2",
   "language": "python",
   "name": "python2"
  },
  "language_info": {
   "codemirror_mode": {
    "name": "ipython",
    "version": 2
   },
   "file_extension": ".py",
   "mimetype": "text/x-python",
   "name": "python",
   "nbconvert_exporter": "python",
   "pygments_lexer": "ipython2",
   "version": "2.7.11"
  }
 },
 "nbformat": 4,
 "nbformat_minor": 0
}
