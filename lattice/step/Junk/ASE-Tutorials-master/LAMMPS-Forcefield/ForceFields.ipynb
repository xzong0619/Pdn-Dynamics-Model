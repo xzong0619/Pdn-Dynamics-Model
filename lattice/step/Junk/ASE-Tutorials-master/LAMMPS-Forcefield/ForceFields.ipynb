{
 "cells": [
  {
   "cell_type": "markdown",
   "metadata": {},
   "source": [
    "## Forcefield setup\n",
    "\n",
    "Setting up a forcefield can be a real pain. Defining and printing all the bonds, angles, dihedrals etc takes a lot of messing around. Luckily there is a module for doing this for the OPLS forcefield in ASE. The parameters defined should be transferable to other forcefields thereafter."
   ]
  },
  {
   "cell_type": "code",
   "execution_count": 7,
   "metadata": {
    "collapsed": false
   },
   "outputs": [],
   "source": [
    "from ase.io.opls import OPLSff, OPLSStructure\n",
    "s = OPLSStructure('Spiro_ext.xyz')\n",
    "opls = OPLSff('ff.par')\n",
    "opls.write_lammps(s, prefix='lmp')"
   ]
  },
  {
   "cell_type": "markdown",
   "metadata": {},
   "source": [
    "The tricky part of this is to have an extended xyz file in the correct format.[This webpage](http://libatoms.github.io/QUIP/io.html#extendedxyz) gives an overview of the extended xyz format. "
   ]
  }
 ],
 "metadata": {
  "kernelspec": {
   "display_name": "Python 2",
   "language": "python",
   "name": "python2"
  },
  "language_info": {
   "codemirror_mode": {
    "name": "ipython",
    "version": 2
   },
   "file_extension": ".py",
   "mimetype": "text/x-python",
   "name": "python",
   "nbconvert_exporter": "python",
   "pygments_lexer": "ipython2",
   "version": "2.7.11"
  }
 },
 "nbformat": 4,
 "nbformat_minor": 0
}
