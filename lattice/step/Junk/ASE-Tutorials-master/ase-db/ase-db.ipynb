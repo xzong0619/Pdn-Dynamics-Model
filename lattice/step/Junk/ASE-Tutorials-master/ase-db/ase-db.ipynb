{
 "cells": [
  {
   "cell_type": "code",
   "execution_count": 1,
   "metadata": {
    "collapsed": false
   },
   "outputs": [],
   "source": [
    "%%bash \n",
    "rm tmp/*"
   ]
  },
  {
   "cell_type": "markdown",
   "metadata": {},
   "source": [
    "# ase-db: A database for ASE calculations"
   ]
  },
  {
   "cell_type": "markdown",
   "metadata": {},
   "source": [
    "The ase database features offer a powerful way to explore and manage batches of calculations. It can be very convenient to parse a number of output files, scattered across a directory structure, to form a single file with all the useful data. The [official documention](https://wiki.fysik.dtu.dk/ase/ase/db/db.html#module-ase.db) is not comprehensive, but contains some useful information. **ase-db** has somewhat suffered from a lack of interest and a couple of API changes, but it seems like nothing a few serious users couldn't sort out!\n",
    "\n",
    "ASE supports three backends:\n",
    "\n",
    "* [SQLite3](https://en.wikipedia.org/wiki/SQLite) is fully-featured relational database system which stores databases in local files. It's fast and widely-used for data serialisation in software. The file format is binary. You can inspect and modify ASE-generated SQLite3 files with regular sqlite3 tools, but some parameters (e.g. atomic positions) are stored as binary blobs.\n",
    "* [JSON](https://en.wikipedia.org/wiki/JSON) is a simple text-based format for data serialisation. This can be a good choice for long-term archiving and publication support. It will always be readable, but it's human-friendliness is overrated...\n",
    "* [PostgreSQL](https://en.wikipedia.org/wiki/PostgreSQL) is a more traditional server-hosted relational database system. This might be suitable for a group sharing data, but the configuration is correspondingly more complex."
   ]
  },
  {
   "cell_type": "markdown",
   "metadata": {},
   "source": [
    "## Exploring an existing DB "
   ]
  },
  {
   "cell_type": "markdown",
   "metadata": {},
   "source": [
    "An ASE-DB can be a useful way of storing an interesting set of calculations. You can apply search/filter operations, and add your own metadata.\n",
    "\n",
    "**data/sulfur_pbe0_96.db** is a set of data from calculations on sulfur clusters S2-S8, stored using the SQLite3 backend. As well as the default attributes including geometry and energy, we have added \"name\" fields and packaged vibrational frequencies into the \"data\" field. Suppose we wish to examine the relative energies of the clusters with size S4-S7:"
   ]
  },
  {
   "cell_type": "code",
   "execution_count": 12,
   "metadata": {
    "collapsed": false
   },
   "outputs": [
    {
     "name": "stdout",
     "output_type": "stream",
     "text": [
      "Species name     Total energy      Relative energy/atom\n",
      "S5_ring           -54397.19         0.16\n",
      "S7_ring           -76156.82         0.05\n",
      "S6_buckled        -65276.60         0.16\n",
      "S7_branched       -76156.00         0.17\n",
      "S6_chain_63       -65275.98         0.26\n",
      "S6_stack_S3       -65276.31         0.21\n",
      "S4_buckled        -43516.41         0.49\n",
      "S6_branched       -65276.18         0.23\n",
      "S4_eclipsed       -43516.84         0.38\n"
     ]
    }
   ],
   "source": [
    "import ase\n",
    "import ase.db\n",
    "\n",
    "db = ase.db.connect('data/sulfur_pbe0_96.db')\n",
    "rows = db.select('S>3,S<8')\n",
    "ref_energy = db.get(name='S8').energy/8\n",
    "print 'Species name     Total energy      Relative energy/atom'\n",
    "for row in rows:\n",
    "    print '{0:14s} {1:12.2f} {2:12.2f}'.format(row.name, row.energy,\n",
    "                                              row.energy/row.natoms - ref_energy)"
   ]
  },
  {
   "cell_type": "markdown",
   "metadata": {},
   "source": [
    "There are some useful tools provided to explore the database. \n",
    "Have a look at the options for the command line tool with `ase-db -h`.\n",
    "If you have the **Flask** Python library installed, you can use an attractive web interface by calling `ase-db -w mydatabase.db`.\n",
    "When the flask server is running, your locally-hosted page will appear at http://0.0.0.0:5000 ."
   ]
  },
  {
   "cell_type": "markdown",
   "metadata": {},
   "source": [
    "## Writing calculation parameters to the DB"
   ]
  },
  {
   "cell_type": "markdown",
   "metadata": {},
   "source": [
    "Let's invent a Morse potential so we have a calculation to play with."
   ]
  },
  {
   "cell_type": "code",
   "execution_count": 2,
   "metadata": {
    "collapsed": false
   },
   "outputs": [
    {
     "name": "stdout",
     "output_type": "stream",
     "text": [
      "Forces:  [[  0.           0.         -49.89190266]\n",
      " [  0.           0.          49.89190266]]\n"
     ]
    }
   ],
   "source": [
    "from ase.calculators.morse import MorsePotential\n",
    "\n",
    "h2 = ase.Atoms('H2',positions=[[0,0,0],[0,0,1]])\n",
    "calc = MorsePotential(epsilon=2., rho0=5.0, r0=1.2)\n",
    "h2.set_calculator(calc)\n",
    "# Trigger a calculation\n",
    "print \"Forces: \", h2.get_forces()"
   ]
  },
  {
   "cell_type": "markdown",
   "metadata": {},
   "source": [
    "We open a database connection and write the Atoms object (which includes computer properties and the Calculator) into the db. This returns an ID.\n",
    "\n",
    "(In older version of ASE, you can specify the ID, but this causes errors in recent versions.)"
   ]
  },
  {
   "cell_type": "code",
   "execution_count": 3,
   "metadata": {
    "collapsed": false
   },
   "outputs": [],
   "source": [
    "# Filenames with the .db suffix automatically use the sqlite3 backend\n",
    "db = ase.db.connect('tmp/morse_calcs.db')\n",
    "# The write method returns a unique id\n",
    "id = db.write(h2)"
   ]
  },
  {
   "cell_type": "markdown",
   "metadata": {},
   "source": [
    "Now let's pull the row back out of the database and have a look at it."
   ]
  },
  {
   "cell_type": "code",
   "execution_count": 4,
   "metadata": {
    "collapsed": false
   },
   "outputs": [
    {
     "name": "stdout",
     "output_type": "stream",
     "text": [
      "<ase.db.row.AtomsRow instance at 0x106123878>\n",
      "Methods list:  ['pbc', 'energy', 'calculator_parameters', 'numbers', 'mtime', 'ctime', 'positions', 'id', 'cell', 'forces', 'calculator', 'unique_id', 'user']\n"
     ]
    }
   ],
   "source": [
    "h2_from_db = db.get(id)\n",
    "print h2_from_db\n",
    "print \"Methods list: \", [key for key in h2_from_db]"
   ]
  },
  {
   "cell_type": "markdown",
   "metadata": {},
   "source": [
    "The \"calculator parameters\" entry is interesting as this allows us to reproduce calculations."
   ]
  },
  {
   "cell_type": "code",
   "execution_count": 5,
   "metadata": {
    "collapsed": false
   },
   "outputs": [
    {
     "name": "stdout",
     "output_type": "stream",
     "text": [
      "{\"epsilon\": 2.0, \"rho0\": 5.0, \"r0\": 1.2}\n",
      "<type 'unicode'>\n"
     ]
    }
   ],
   "source": [
    "# Parameters are stored, but in a string representation\n",
    "print h2_from_db.calculator_parameters\n",
    "print type(h2_from_db.calculator_parameters)"
   ]
  },
  {
   "cell_type": "markdown",
   "metadata": {},
   "source": [
    "Note that the data is *serialised* into a string. Python's regular serialisation tools **pickle**, **shelve** and **marshal** are not secure and will execute arbitrary code. Database modules tend to use \"safe\" string-based serialisation of a subset of Python objects. Here we can use a function provided by the **json** module."
   ]
  },
  {
   "cell_type": "code",
   "execution_count": 6,
   "metadata": {
    "collapsed": false
   },
   "outputs": [
    {
     "name": "stdout",
     "output_type": "stream",
     "text": [
      "{u'epsilon': 2.0, u'rho0': 5.0, u'r0': 1.2}\n",
      "<type 'dict'>\n"
     ]
    }
   ],
   "source": [
    "# the json module has a safe tool for getting these back into Python objects\n",
    "from json import loads\n",
    "def dbrow2params(db_row):\n",
    "    return loads(db_row.calculator_parameters)\n",
    "\n",
    "params = dbrow2params(h2_from_db)\n",
    "print params\n",
    "print type(params)"
   ]
  },
  {
   "cell_type": "markdown",
   "metadata": {},
   "source": [
    "Let's initialise a new calculation closer to the optimum, using the imported parameters."
   ]
  },
  {
   "cell_type": "code",
   "execution_count": 7,
   "metadata": {
    "collapsed": false
   },
   "outputs": [
    {
     "name": "stdout",
     "output_type": "stream",
     "text": [
      "Forces:  [[ 0.          0.         -0.06987988]\n",
      " [ 0.          0.          0.06987988]]\n"
     ]
    }
   ],
   "source": [
    "new_atoms = h2_from_db.toatoms()\n",
    "new_calc = MorsePotential(**params) # In Python, **args expands a dict {arg1:x, arg2:y,...} to a \n",
    "                                # list of optional args in format arg1=x, arg2=y, ...\n",
    "new_atoms.set_calculator(new_calc)\n",
    "new_atoms.positions = [[0.,0.,0.],[0.,0.,1.199]]\n",
    "print \"Forces: \", new_atoms.get_forces()"
   ]
  },
  {
   "cell_type": "markdown",
   "metadata": {},
   "source": [
    "### More chemistry packages"
   ]
  },
  {
   "cell_type": "markdown",
   "metadata": {},
   "source": [
    "The various chemistry codes that have ASE interfaces include a \"read\" method which can get information about finished calculations from their output files. Here we look at an output file from GPAW. Note that in the resulting Atoms object does *not* have the correct Calculator object attached."
   ]
  },
  {
   "cell_type": "code",
   "execution_count": 8,
   "metadata": {
    "collapsed": false
   },
   "outputs": [
    {
     "name": "stdout",
     "output_type": "stream",
     "text": [
      "Calculator type:  <ase.calculators.singlepoint.SinglePointDFTCalculator instance at 0x106123ef0>\n"
     ]
    }
   ],
   "source": [
    "import ase.io\n",
    "gpaw_h2_txt = ase.io.read('data/h2.gpaw.0.1.txt')\n",
    "print \"Calculator type: \", gpaw_h2_txt.calc"
   ]
  },
  {
   "cell_type": "markdown",
   "metadata": {},
   "source": [
    "Lots of data *is* available:"
   ]
  },
  {
   "cell_type": "code",
   "execution_count": 9,
   "metadata": {
    "collapsed": false
   },
   "outputs": [
    {
     "name": "stdout",
     "output_type": "stream",
     "text": [
      "HOMO and LUMO:  (-10.091749999999999, 0.37676999999999999)  Fermi energy:  -4.85749\n",
      "Spin-polarised?  False       K-points:  [<ase.calculators.singlepoint.SinglePointKPoint instance at 0x106123dd0>]\n"
     ]
    }
   ],
   "source": [
    "calc = gpaw_h2_txt.calc\n",
    "print \"HOMO and LUMO: \", calc.get_homo_lumo(), \" Fermi energy: \", calc.eFermi\n",
    "print \"Spin-polarised? \", calc.get_spin_polarized(), \"      K-points: \", calc.kpts"
   ]
  },
  {
   "cell_type": "markdown",
   "metadata": {},
   "source": [
    "but not the GPAW parameters:"
   ]
  },
  {
   "cell_type": "code",
   "execution_count": 10,
   "metadata": {
    "collapsed": false
   },
   "outputs": [
    {
     "data": {
      "text/plain": [
       "{}"
      ]
     },
     "execution_count": 10,
     "metadata": {},
     "output_type": "execute_result"
    }
   ],
   "source": [
    "calc.parameters"
   ]
  },
  {
   "cell_type": "markdown",
   "metadata": {},
   "source": [
    "There is clearly and advantage to writing to the ASE-db directly from the original ASE Atoms objecct, which has this information. This is the origin of the file \"H2.gpaw.db\", in which the calculator is correctly identified..."
   ]
  },
  {
   "cell_type": "code",
   "execution_count": 11,
   "metadata": {
    "collapsed": false
   },
   "outputs": [
    {
     "name": "stdout",
     "output_type": "stream",
     "text": [
      "Calculator:  gpaw\n"
     ]
    }
   ],
   "source": [
    "gpaw_db = ase.db.connect('data/H2.gpaw.db')\n",
    "H2_GPAW_dict = gpaw_db.get(4)\n",
    "print \"Calculator: \", H2_GPAW_dict.calculator"
   ]
  },
  {
   "cell_type": "markdown",
   "metadata": {},
   "source": [
    "but the parameters are still lost!"
   ]
  },
  {
   "cell_type": "code",
   "execution_count": 12,
   "metadata": {
    "collapsed": false
   },
   "outputs": [
    {
     "data": {
      "text/plain": [
       "u'{}'"
      ]
     },
     "execution_count": 12,
     "metadata": {},
     "output_type": "execute_result"
    }
   ],
   "source": [
    "H2_GPAW_dict.calculator_parameters"
   ]
  },
  {
   "cell_type": "markdown",
   "metadata": {},
   "source": [
    "The cause of this can be found in the GPAW source code. ASE uses the \"todict\" method to combine all the parameters into one dictionary for saving to the DB.\n",
    "\n",
    "    # name, nolabel, check_state, todict and get_property are hacks\n",
    "    # for compatibility with ASE-3.8's new calculator specification.\n",
    "    # In the future, we will get this stuff for free by inheriting from\n",
    "    # ase.calculators.calculator.Calculator.\n",
    "    name = 'GPAW'\n",
    "    nolabel = True\n",
    "\n",
    "    ...\n",
    "      \n",
    "    def todict(self):\n",
    "        return {}"
   ]
  },
  {
   "cell_type": "markdown",
   "metadata": {},
   "source": [
    "Clearly some implementation work remains to be done. However, it is actually quite easy to work around this and add your parameters manually! For example, let's set up an FHI-aims calculation with spin polarisation."
   ]
  },
  {
   "cell_type": "code",
   "execution_count": 13,
   "metadata": {
    "collapsed": false
   },
   "outputs": [],
   "source": [
    "from ase.calculators.aims import Aims\n",
    "atoms = gpaw_db.get_atoms(4)\n",
    "my_params = {'xc':'PBE', 'spin':'collinear', 'default_initial_moment':2}\n",
    "calc = Aims(**my_params)\n",
    "atoms.set_calculator(calc)"
   ]
  },
  {
   "cell_type": "markdown",
   "metadata": {},
   "source": [
    "The FHI-aims interface isn't actually set up here, so we'll skip doing the calculation.\n",
    "When dumping this into the DB, arbitrary *strings* can be added to the DB entry, so we just add our parameter dictionary after serialising to a string."
   ]
  },
  {
   "cell_type": "code",
   "execution_count": 14,
   "metadata": {
    "collapsed": false
   },
   "outputs": [
    {
     "data": {
      "text/plain": [
       "1"
      ]
     },
     "execution_count": 14,
     "metadata": {},
     "output_type": "execute_result"
    }
   ],
   "source": [
    "from json import dumps\n",
    "others_db = ase.db.connect('tmp/H2.others.db')\n",
    "my_params_str = dumps(my_params)\n",
    "others_db.write(atoms, my_params=my_params_str)"
   ]
  },
  {
   "cell_type": "markdown",
   "metadata": {},
   "source": [
    "And these are available with the Atoms object:"
   ]
  },
  {
   "cell_type": "code",
   "execution_count": 15,
   "metadata": {
    "collapsed": false
   },
   "outputs": [
    {
     "data": {
      "text/plain": [
       "u'{\"xc\": \"PBE\", \"default_initial_moment\": 2, \"spin\": \"collinear\"}'"
      ]
     },
     "execution_count": 15,
     "metadata": {},
     "output_type": "execute_result"
    }
   ],
   "source": [
    "new_aims_H2 = others_db.select('H=2').next()\n",
    "new_aims_H2.my_params"
   ]
  },
  {
   "cell_type": "markdown",
   "metadata": {},
   "source": [
    "We can see that this is identical to the way it has been implemented automatically for the aims calculator."
   ]
  },
  {
   "cell_type": "code",
   "execution_count": 16,
   "metadata": {
    "collapsed": false
   },
   "outputs": [
    {
     "data": {
      "text/plain": [
       "u'{\"xc\": \"pbe\", \"default_initial_moment\": 2, \"spin\": \"collinear\"}'"
      ]
     },
     "execution_count": 16,
     "metadata": {},
     "output_type": "execute_result"
    }
   ],
   "source": [
    "new_aims_H2.calculator_parameters"
   ]
  },
  {
   "cell_type": "markdown",
   "metadata": {},
   "source": [
    "This isn't very searchable, though. We can put some of these fields in at a higher level if we like..."
   ]
  },
  {
   "cell_type": "code",
   "execution_count": 25,
   "metadata": {
    "collapsed": false
   },
   "outputs": [],
   "source": [
    "for xc, forces in(('PBE',1e-3), ('LDA', 1e-4), ('PBEsol', 1e-5)):\n",
    "    my_params = {'xc':xc, 'spin':'collinear', 'default_initial_moment':2, 'sc_accuracy_forces':forces}\n",
    "    calc = Aims(**my_params)\n",
    "    atoms.set_calculator(calc)\n",
    "    others_db.write(atoms, **my_params)"
   ]
  },
  {
   "cell_type": "markdown",
   "metadata": {},
   "source": [
    "These are now searchable!"
   ]
  },
  {
   "cell_type": "code",
   "execution_count": 28,
   "metadata": {
    "collapsed": false
   },
   "outputs": [
    {
     "name": "stdout",
     "output_type": "stream",
     "text": [
      "LDA calculation has force convergence:  0.0001\n",
      "LDA calculation has force convergence:  0.0001\n"
     ]
    }
   ],
   "source": [
    "for row in others_db.select('xc=LDA'):\n",
    "    print \"LDA calculation has force convergence: \", row.sc_accuracy_forces"
   ]
  },
  {
   "cell_type": "markdown",
   "metadata": {},
   "source": [
    "If you open the web interface, you'll be able to add these new columns.\n",
    "\n",
    "![](images/db_addfield.png)"
   ]
  },
  {
   "cell_type": "markdown",
   "metadata": {},
   "source": [
    "### (Lack of) Vasp implementation"
   ]
  },
  {
   "cell_type": "markdown",
   "metadata": {},
   "source": [
    "The Vasp calculator has a slightly non-standard base and so appears to lack the ability to dump its parameters, and actually causes an error in the process. A GPAW-like hack would sort this out, although it would be nice if someone contributed the real solution..."
   ]
  },
  {
   "cell_type": "code",
   "execution_count": 19,
   "metadata": {
    "collapsed": false
   },
   "outputs": [
    {
     "ename": "AttributeError",
     "evalue": "Vasp instance has no attribute 'todict'",
     "output_type": "error",
     "traceback": [
      "\u001b[0;31m---------------------------------------------------------------------------\u001b[0m",
      "\u001b[0;31mAttributeError\u001b[0m                            Traceback (most recent call last)",
      "\u001b[0;32m<ipython-input-19-08b368dca2e2>\u001b[0m in \u001b[0;36m<module>\u001b[0;34m()\u001b[0m\n\u001b[1;32m      3\u001b[0m \u001b[0mcalc\u001b[0m \u001b[0;34m=\u001b[0m \u001b[0mVasp\u001b[0m\u001b[0;34m(\u001b[0m\u001b[0;34m**\u001b[0m\u001b[0mmy_params\u001b[0m\u001b[0;34m)\u001b[0m\u001b[0;34m\u001b[0m\u001b[0m\n\u001b[1;32m      4\u001b[0m \u001b[0matoms\u001b[0m\u001b[0;34m.\u001b[0m\u001b[0mset_calculator\u001b[0m\u001b[0;34m(\u001b[0m\u001b[0mcalc\u001b[0m\u001b[0;34m)\u001b[0m\u001b[0;34m\u001b[0m\u001b[0m\n\u001b[0;32m----> 5\u001b[0;31m \u001b[0mothers_db\u001b[0m\u001b[0;34m.\u001b[0m\u001b[0mwrite\u001b[0m\u001b[0;34m(\u001b[0m\u001b[0matoms\u001b[0m\u001b[0;34m,\u001b[0m \u001b[0mparams\u001b[0m\u001b[0;34m=\u001b[0m\u001b[0mdumps\u001b[0m\u001b[0;34m(\u001b[0m\u001b[0mmy_params\u001b[0m\u001b[0;34m)\u001b[0m\u001b[0;34m)\u001b[0m\u001b[0;34m\u001b[0m\u001b[0m\n\u001b[0m",
      "\u001b[0;32m/Users/adamjackson/src/ase-dev/ase/db/core.pyc\u001b[0m in \u001b[0;36mnew_method\u001b[0;34m(self, *args, **kwargs)\u001b[0m\n\u001b[1;32m    138\u001b[0m         \u001b[0;32melse\u001b[0m\u001b[0;34m:\u001b[0m\u001b[0;34m\u001b[0m\u001b[0m\n\u001b[1;32m    139\u001b[0m             \u001b[0;32mwith\u001b[0m \u001b[0mself\u001b[0m\u001b[0;34m.\u001b[0m\u001b[0mlock\u001b[0m\u001b[0;34m:\u001b[0m\u001b[0;34m\u001b[0m\u001b[0m\n\u001b[0;32m--> 140\u001b[0;31m                 \u001b[0;32mreturn\u001b[0m \u001b[0mmethod\u001b[0m\u001b[0;34m(\u001b[0m\u001b[0mself\u001b[0m\u001b[0;34m,\u001b[0m \u001b[0;34m*\u001b[0m\u001b[0margs\u001b[0m\u001b[0;34m,\u001b[0m \u001b[0;34m**\u001b[0m\u001b[0mkwargs\u001b[0m\u001b[0;34m)\u001b[0m\u001b[0;34m\u001b[0m\u001b[0m\n\u001b[0m\u001b[1;32m    141\u001b[0m     \u001b[0;32mreturn\u001b[0m \u001b[0mnew_method\u001b[0m\u001b[0;34m\u001b[0m\u001b[0m\n\u001b[1;32m    142\u001b[0m \u001b[0;34m\u001b[0m\u001b[0m\n",
      "\u001b[0;32m/Users/adamjackson/src/ase-dev/ase/db/core.pyc\u001b[0m in \u001b[0;36mwrite\u001b[0;34m(self, atoms, key_value_pairs, data, **kwargs)\u001b[0m\n\u001b[1;32m    199\u001b[0m         \u001b[0mkvp\u001b[0m\u001b[0;34m.\u001b[0m\u001b[0mupdate\u001b[0m\u001b[0;34m(\u001b[0m\u001b[0mkwargs\u001b[0m\u001b[0;34m)\u001b[0m\u001b[0;34m\u001b[0m\u001b[0m\n\u001b[1;32m    200\u001b[0m \u001b[0;34m\u001b[0m\u001b[0m\n\u001b[0;32m--> 201\u001b[0;31m         \u001b[0mid\u001b[0m \u001b[0;34m=\u001b[0m \u001b[0mself\u001b[0m\u001b[0;34m.\u001b[0m\u001b[0m_write\u001b[0m\u001b[0;34m(\u001b[0m\u001b[0matoms\u001b[0m\u001b[0;34m,\u001b[0m \u001b[0mkvp\u001b[0m\u001b[0;34m,\u001b[0m \u001b[0mdata\u001b[0m\u001b[0;34m)\u001b[0m\u001b[0;34m\u001b[0m\u001b[0m\n\u001b[0m\u001b[1;32m    202\u001b[0m         \u001b[0;32mreturn\u001b[0m \u001b[0mid\u001b[0m\u001b[0;34m\u001b[0m\u001b[0m\n\u001b[1;32m    203\u001b[0m \u001b[0;34m\u001b[0m\u001b[0m\n",
      "\u001b[0;32m/Users/adamjackson/src/ase-dev/ase/db/sqlite.pyc\u001b[0m in \u001b[0;36m_write\u001b[0;34m(self, atoms, key_value_pairs, data)\u001b[0m\n\u001b[1;32m    188\u001b[0m \u001b[0;34m\u001b[0m\u001b[0m\n\u001b[1;32m    189\u001b[0m         \u001b[0;32mif\u001b[0m \u001b[0;32mnot\u001b[0m \u001b[0misinstance\u001b[0m\u001b[0;34m(\u001b[0m\u001b[0matoms\u001b[0m\u001b[0;34m,\u001b[0m \u001b[0mAtomsRow\u001b[0m\u001b[0;34m)\u001b[0m\u001b[0;34m:\u001b[0m\u001b[0;34m\u001b[0m\u001b[0m\n\u001b[0;32m--> 190\u001b[0;31m             \u001b[0mrow\u001b[0m \u001b[0;34m=\u001b[0m \u001b[0mAtomsRow\u001b[0m\u001b[0;34m(\u001b[0m\u001b[0matoms\u001b[0m\u001b[0;34m)\u001b[0m\u001b[0;34m\u001b[0m\u001b[0m\n\u001b[0m\u001b[1;32m    191\u001b[0m             \u001b[0mrow\u001b[0m\u001b[0;34m.\u001b[0m\u001b[0mctime\u001b[0m \u001b[0;34m=\u001b[0m \u001b[0mmtime\u001b[0m \u001b[0;34m=\u001b[0m \u001b[0mnow\u001b[0m\u001b[0;34m(\u001b[0m\u001b[0;34m)\u001b[0m\u001b[0;34m\u001b[0m\u001b[0m\n\u001b[1;32m    192\u001b[0m             \u001b[0mrow\u001b[0m\u001b[0;34m.\u001b[0m\u001b[0muser\u001b[0m \u001b[0;34m=\u001b[0m \u001b[0mos\u001b[0m\u001b[0;34m.\u001b[0m\u001b[0mgetenv\u001b[0m\u001b[0;34m(\u001b[0m\u001b[0;34m'USER'\u001b[0m\u001b[0;34m)\u001b[0m\u001b[0;34m\u001b[0m\u001b[0m\n",
      "\u001b[0;32m/Users/adamjackson/src/ase-dev/ase/db/row.pyc\u001b[0m in \u001b[0;36m__init__\u001b[0;34m(self, dct)\u001b[0m\n\u001b[1;32m     65\u001b[0m             \u001b[0mdct\u001b[0m \u001b[0;34m=\u001b[0m \u001b[0mdct\u001b[0m\u001b[0;34m.\u001b[0m\u001b[0mcopy\u001b[0m\u001b[0;34m(\u001b[0m\u001b[0;34m)\u001b[0m\u001b[0;34m\u001b[0m\u001b[0m\n\u001b[1;32m     66\u001b[0m         \u001b[0;32melse\u001b[0m\u001b[0;34m:\u001b[0m\u001b[0;34m\u001b[0m\u001b[0m\n\u001b[0;32m---> 67\u001b[0;31m             \u001b[0mdct\u001b[0m \u001b[0;34m=\u001b[0m \u001b[0matoms2dict\u001b[0m\u001b[0;34m(\u001b[0m\u001b[0mdct\u001b[0m\u001b[0;34m)\u001b[0m\u001b[0;34m\u001b[0m\u001b[0m\n\u001b[0m\u001b[1;32m     68\u001b[0m         \u001b[0mself\u001b[0m\u001b[0;34m.\u001b[0m\u001b[0m_constraints\u001b[0m \u001b[0;34m=\u001b[0m \u001b[0mdct\u001b[0m\u001b[0;34m.\u001b[0m\u001b[0mpop\u001b[0m\u001b[0;34m(\u001b[0m\u001b[0;34m'constraints'\u001b[0m\u001b[0;34m,\u001b[0m \u001b[0;34m[\u001b[0m\u001b[0;34m]\u001b[0m\u001b[0;34m)\u001b[0m\u001b[0;34m\u001b[0m\u001b[0m\n\u001b[1;32m     69\u001b[0m         \u001b[0mself\u001b[0m\u001b[0;34m.\u001b[0m\u001b[0m_data\u001b[0m \u001b[0;34m=\u001b[0m \u001b[0mdct\u001b[0m\u001b[0;34m.\u001b[0m\u001b[0mpop\u001b[0m\u001b[0;34m(\u001b[0m\u001b[0;34m'data'\u001b[0m\u001b[0;34m,\u001b[0m \u001b[0mNone\u001b[0m\u001b[0;34m)\u001b[0m\u001b[0;34m\u001b[0m\u001b[0m\n",
      "\u001b[0;32m/Users/adamjackson/src/ase-dev/ase/db/row.pyc\u001b[0m in \u001b[0;36matoms2dict\u001b[0;34m(atoms)\u001b[0m\n\u001b[1;32m     47\u001b[0m     \u001b[0;32mif\u001b[0m \u001b[0matoms\u001b[0m\u001b[0;34m.\u001b[0m\u001b[0mcalc\u001b[0m \u001b[0;32mis\u001b[0m \u001b[0;32mnot\u001b[0m \u001b[0mNone\u001b[0m\u001b[0;34m:\u001b[0m\u001b[0;34m\u001b[0m\u001b[0m\n\u001b[1;32m     48\u001b[0m         \u001b[0mdct\u001b[0m\u001b[0;34m[\u001b[0m\u001b[0;34m'calculator'\u001b[0m\u001b[0;34m]\u001b[0m \u001b[0;34m=\u001b[0m \u001b[0matoms\u001b[0m\u001b[0;34m.\u001b[0m\u001b[0mcalc\u001b[0m\u001b[0;34m.\u001b[0m\u001b[0mname\u001b[0m\u001b[0;34m.\u001b[0m\u001b[0mlower\u001b[0m\u001b[0;34m(\u001b[0m\u001b[0;34m)\u001b[0m\u001b[0;34m\u001b[0m\u001b[0m\n\u001b[0;32m---> 49\u001b[0;31m         \u001b[0mdct\u001b[0m\u001b[0;34m[\u001b[0m\u001b[0;34m'calculator_parameters'\u001b[0m\u001b[0;34m]\u001b[0m \u001b[0;34m=\u001b[0m \u001b[0matoms\u001b[0m\u001b[0;34m.\u001b[0m\u001b[0mcalc\u001b[0m\u001b[0;34m.\u001b[0m\u001b[0mtodict\u001b[0m\u001b[0;34m(\u001b[0m\u001b[0;34m)\u001b[0m\u001b[0;34m\u001b[0m\u001b[0m\n\u001b[0m\u001b[1;32m     50\u001b[0m         \u001b[0;32mif\u001b[0m \u001b[0mlen\u001b[0m\u001b[0;34m(\u001b[0m\u001b[0matoms\u001b[0m\u001b[0;34m.\u001b[0m\u001b[0mcalc\u001b[0m\u001b[0;34m.\u001b[0m\u001b[0mcheck_state\u001b[0m\u001b[0;34m(\u001b[0m\u001b[0matoms\u001b[0m\u001b[0;34m)\u001b[0m\u001b[0;34m)\u001b[0m \u001b[0;34m==\u001b[0m \u001b[0;36m0\u001b[0m\u001b[0;34m:\u001b[0m\u001b[0;34m\u001b[0m\u001b[0m\n\u001b[1;32m     51\u001b[0m             \u001b[0;32mfor\u001b[0m \u001b[0mprop\u001b[0m \u001b[0;32min\u001b[0m \u001b[0mall_properties\u001b[0m\u001b[0;34m:\u001b[0m\u001b[0;34m\u001b[0m\u001b[0m\n",
      "\u001b[0;31mAttributeError\u001b[0m: Vasp instance has no attribute 'todict'"
     ]
    }
   ],
   "source": [
    "from ase.calculators.vasp import Vasp\n",
    "my_params = {'encut':500., 'algo':'Fast', 'isif':3, 'nsw':10}\n",
    "calc = Vasp(**my_params)\n",
    "atoms.set_calculator(calc)\n",
    "others_db.write(atoms, params=dumps(my_params))"
   ]
  }
 ],
 "metadata": {
  "kernelspec": {
   "display_name": "Python 2",
   "language": "python",
   "name": "python2"
  },
  "language_info": {
   "codemirror_mode": {
    "name": "ipython",
    "version": 2
   },
   "file_extension": ".py",
   "mimetype": "text/x-python",
   "name": "python",
   "nbconvert_exporter": "python",
   "pygments_lexer": "ipython2",
   "version": "2.7.2"
  }
 },
 "nbformat": 4,
 "nbformat_minor": 0
}
